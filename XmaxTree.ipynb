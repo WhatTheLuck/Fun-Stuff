{
 "cells": [
  {
   "cell_type": "code",
   "execution_count": 19,
   "outputs": [],
   "source": [
    "import turtle as t  # as就是取个别名，后续调用的t都是turtle\n",
    "from turtle import *\n",
    "import random as r"
   ],
   "metadata": {
    "collapsed": false,
    "pycharm": {
     "name": "#%%\n"
    }
   }
  },
  {
   "cell_type": "code",
   "execution_count": 20,
   "outputs": [],
   "source": [
    "n = 100.0\n",
    "t.pensize(10) # 修改画笔大小\n",
    "speed(\"fastest\")  # 定义速度\n",
    "screensize(bg='lightcoral')  # 定义背景颜色，可以自己换颜色"
   ],
   "metadata": {
    "collapsed": false,
    "pycharm": {
     "name": "#%%\n"
    }
   }
  },
  {
   "cell_type": "code",
   "execution_count": 21,
   "outputs": [],
   "source": [
    "def star():\n",
    "    left(90)\n",
    "    forward(3 * n)\n",
    "    color(\"orange\", \"yellow\")\n",
    "\n",
    "    begin_fill()\n",
    "    left(126)\n",
    "    for i in range(5):\n",
    "        forward(n / 5)\n",
    "        right(144)  # 五角星的角度\n",
    "        forward(n / 5)\n",
    "        left(72)\n",
    "    end_fill()\n",
    "\n",
    "    right(126)"
   ],
   "metadata": {
    "collapsed": false,
    "pycharm": {
     "name": "#%%\n"
    }
   }
  },
  {
   "cell_type": "code",
   "execution_count": 22,
   "outputs": [],
   "source": [
    "def drawlight():\n",
    "    rand_num = r.randint(0, 70)\n",
    "    if rand_num == 0:\n",
    "        color('tomato')\n",
    "        circle(6)\n",
    "    elif rand_num == 1:\n",
    "        color('orange')\n",
    "        circle(3)\n",
    "    elif rand_num == 2:\n",
    "        color('pink')\n",
    "        circle(6)\n",
    "    elif rand_num == 3:\n",
    "        color('aqua')\n",
    "        circle(4)\n",
    "    elif rand_num == 4:\n",
    "        color('red')\n",
    "        circle(5)\n",
    "    elif rand_num == 5:\n",
    "        color('springgreen')\n",
    "        circle(6)\n",
    "    else:\n",
    "        color('dark green')  # 其余随机数画树枝"
   ],
   "metadata": {
    "collapsed": false,
    "pycharm": {
     "name": "#%%\n"
    }
   }
  },
  {
   "cell_type": "code",
   "execution_count": 23,
   "outputs": [],
   "source": [
    "def tree(d, s):\n",
    "    if d <= 0: return\n",
    "    forward(s)\n",
    "    tree(d - 1, s * .8)\n",
    "    right(120)\n",
    "    tree(d - 3, s * .5)\n",
    "    drawlight()  # 调用彩灯\n",
    "    right(120)\n",
    "    tree(d - 3, s * .5)\n",
    "    right(120)\n",
    "    backward(s)\n",
    "    backward(s / 2)"
   ],
   "metadata": {
    "collapsed": false,
    "pycharm": {
     "name": "#%%\n"
    }
   }
  },
  {
   "cell_type": "code",
   "execution_count": 24,
   "outputs": [],
   "source": [
    "def snow():\n",
    "    t.ht()\n",
    "    t.pensize(2)\n",
    "    for i in range(200):  # 雪花数量\n",
    "        t.pencolor(\"white\")\n",
    "        t.pu()\n",
    "        t.setx(r.randint(-350, 350))\n",
    "        t.sety(r.randint(-100, 350))\n",
    "        t.pd()\n",
    "        dens = 6  # 雪花瓣数\n",
    "        snowsize = r.randint(1, 10)\n",
    "        for j in range(dens):\n",
    "            t.fd(int(snowsize))\n",
    "            t.backward(int(snowsize))\n",
    "            t.right(int(360 / dens))  # 转动角度"
   ],
   "metadata": {
    "collapsed": false,
    "pycharm": {
     "name": "#%%\n"
    }
   }
  },
  {
   "cell_type": "code",
   "execution_count": 25,
   "outputs": [],
   "source": [
    "def gift():\n",
    "    for i in range(200):\n",
    "        a = 200 - 400 * r.random()\n",
    "        b = 10 - 20 * r.random()\n",
    "        up()\n",
    "        forward(b)\n",
    "        left(90)\n",
    "        forward(a)\n",
    "        down()\n",
    "        if r.randint(0, 1) == 0:\n",
    "            color('tomato')\n",
    "        else:\n",
    "            color('wheat')\n",
    "        circle(2)\n",
    "        up()\n",
    "        backward(a)\n",
    "        right(90)\n",
    "        backward(b)"
   ],
   "metadata": {
    "collapsed": false,
    "pycharm": {
     "name": "#%%\n"
    }
   }
  },
  {
   "cell_type": "code",
   "execution_count": 26,
   "outputs": [],
   "source": [
    "def text():\n",
    "    t.color(\"dark red\", \"red\")\n",
    "    t.write(\"Merry Christmas 2022\", align=\"center\", font=(\"Comic Sans MS\", 40, \"bold\"))"
   ],
   "metadata": {
    "collapsed": false,
    "pycharm": {
     "name": "#%%\n"
    }
   }
  },
  {
   "cell_type": "code",
   "execution_count": 27,
   "outputs": [],
   "source": [
    "def text2():\n",
    "    t.color(\"dark red\", \"red\")\n",
    "    t.write(\"——Taylor\", align=\"center\", font=(\"Comic Sans MS\", 10, \"bold\"))"
   ],
   "metadata": {
    "collapsed": false,
    "pycharm": {
     "name": "#%%\n"
    }
   }
  },
  {
   "cell_type": "code",
   "execution_count": 28,
   "outputs": [
    {
     "ename": "Terminator",
     "evalue": "",
     "output_type": "error",
     "traceback": [
      "\u001B[1;31m---------------------------------------------------------------------------\u001B[0m",
      "\u001B[1;31mTerminator\u001B[0m                                Traceback (most recent call last)",
      "Input \u001B[1;32mIn [28]\u001B[0m, in \u001B[0;36m<cell line: 5>\u001B[1;34m()\u001B[0m\n\u001B[0;32m      3\u001B[0m color(\u001B[38;5;124m\"\u001B[39m\u001B[38;5;124mdark green\u001B[39m\u001B[38;5;124m\"\u001B[39m)  \u001B[38;5;66;03m# 定义树枝的颜色\u001B[39;00m\n\u001B[0;32m      4\u001B[0m backward(n \u001B[38;5;241m*\u001B[39m \u001B[38;5;241m4.8\u001B[39m)\n\u001B[1;32m----> 5\u001B[0m \u001B[43mtree\u001B[49m\u001B[43m(\u001B[49m\u001B[38;5;241;43m15\u001B[39;49m\u001B[43m,\u001B[49m\u001B[43m \u001B[49m\u001B[43mn\u001B[49m\u001B[43m)\u001B[49m\n\u001B[0;32m      7\u001B[0m gift()\n\u001B[0;32m      8\u001B[0m text()\n",
      "Input \u001B[1;32mIn [23]\u001B[0m, in \u001B[0;36mtree\u001B[1;34m(d, s)\u001B[0m\n\u001B[0;32m      2\u001B[0m \u001B[38;5;28;01mif\u001B[39;00m d \u001B[38;5;241m<\u001B[39m\u001B[38;5;241m=\u001B[39m \u001B[38;5;241m0\u001B[39m: \u001B[38;5;28;01mreturn\u001B[39;00m\n\u001B[0;32m      3\u001B[0m forward(s)\n\u001B[1;32m----> 4\u001B[0m \u001B[43mtree\u001B[49m\u001B[43m(\u001B[49m\u001B[43md\u001B[49m\u001B[43m \u001B[49m\u001B[38;5;241;43m-\u001B[39;49m\u001B[43m \u001B[49m\u001B[38;5;241;43m1\u001B[39;49m\u001B[43m,\u001B[49m\u001B[43m \u001B[49m\u001B[43ms\u001B[49m\u001B[43m \u001B[49m\u001B[38;5;241;43m*\u001B[39;49m\u001B[43m \u001B[49m\u001B[38;5;241;43m.8\u001B[39;49m\u001B[43m)\u001B[49m\n\u001B[0;32m      5\u001B[0m right(\u001B[38;5;241m120\u001B[39m)\n\u001B[0;32m      6\u001B[0m tree(d \u001B[38;5;241m-\u001B[39m \u001B[38;5;241m3\u001B[39m, s \u001B[38;5;241m*\u001B[39m \u001B[38;5;241m.5\u001B[39m)\n",
      "Input \u001B[1;32mIn [23]\u001B[0m, in \u001B[0;36mtree\u001B[1;34m(d, s)\u001B[0m\n\u001B[0;32m      2\u001B[0m \u001B[38;5;28;01mif\u001B[39;00m d \u001B[38;5;241m<\u001B[39m\u001B[38;5;241m=\u001B[39m \u001B[38;5;241m0\u001B[39m: \u001B[38;5;28;01mreturn\u001B[39;00m\n\u001B[0;32m      3\u001B[0m forward(s)\n\u001B[1;32m----> 4\u001B[0m \u001B[43mtree\u001B[49m\u001B[43m(\u001B[49m\u001B[43md\u001B[49m\u001B[43m \u001B[49m\u001B[38;5;241;43m-\u001B[39;49m\u001B[43m \u001B[49m\u001B[38;5;241;43m1\u001B[39;49m\u001B[43m,\u001B[49m\u001B[43m \u001B[49m\u001B[43ms\u001B[49m\u001B[43m \u001B[49m\u001B[38;5;241;43m*\u001B[39;49m\u001B[43m \u001B[49m\u001B[38;5;241;43m.8\u001B[39;49m\u001B[43m)\u001B[49m\n\u001B[0;32m      5\u001B[0m right(\u001B[38;5;241m120\u001B[39m)\n\u001B[0;32m      6\u001B[0m tree(d \u001B[38;5;241m-\u001B[39m \u001B[38;5;241m3\u001B[39m, s \u001B[38;5;241m*\u001B[39m \u001B[38;5;241m.5\u001B[39m)\n",
      "    \u001B[1;31m[... skipping similar frames: tree at line 4 (3 times)]\u001B[0m\n",
      "Input \u001B[1;32mIn [23]\u001B[0m, in \u001B[0;36mtree\u001B[1;34m(d, s)\u001B[0m\n\u001B[0;32m      2\u001B[0m \u001B[38;5;28;01mif\u001B[39;00m d \u001B[38;5;241m<\u001B[39m\u001B[38;5;241m=\u001B[39m \u001B[38;5;241m0\u001B[39m: \u001B[38;5;28;01mreturn\u001B[39;00m\n\u001B[0;32m      3\u001B[0m forward(s)\n\u001B[1;32m----> 4\u001B[0m \u001B[43mtree\u001B[49m\u001B[43m(\u001B[49m\u001B[43md\u001B[49m\u001B[43m \u001B[49m\u001B[38;5;241;43m-\u001B[39;49m\u001B[43m \u001B[49m\u001B[38;5;241;43m1\u001B[39;49m\u001B[43m,\u001B[49m\u001B[43m \u001B[49m\u001B[43ms\u001B[49m\u001B[43m \u001B[49m\u001B[38;5;241;43m*\u001B[39;49m\u001B[43m \u001B[49m\u001B[38;5;241;43m.8\u001B[39;49m\u001B[43m)\u001B[49m\n\u001B[0;32m      5\u001B[0m right(\u001B[38;5;241m120\u001B[39m)\n\u001B[0;32m      6\u001B[0m tree(d \u001B[38;5;241m-\u001B[39m \u001B[38;5;241m3\u001B[39m, s \u001B[38;5;241m*\u001B[39m \u001B[38;5;241m.5\u001B[39m)\n",
      "Input \u001B[1;32mIn [23]\u001B[0m, in \u001B[0;36mtree\u001B[1;34m(d, s)\u001B[0m\n\u001B[0;32m      4\u001B[0m tree(d \u001B[38;5;241m-\u001B[39m \u001B[38;5;241m1\u001B[39m, s \u001B[38;5;241m*\u001B[39m \u001B[38;5;241m.8\u001B[39m)\n\u001B[0;32m      5\u001B[0m right(\u001B[38;5;241m120\u001B[39m)\n\u001B[1;32m----> 6\u001B[0m \u001B[43mtree\u001B[49m\u001B[43m(\u001B[49m\u001B[43md\u001B[49m\u001B[43m \u001B[49m\u001B[38;5;241;43m-\u001B[39;49m\u001B[43m \u001B[49m\u001B[38;5;241;43m3\u001B[39;49m\u001B[43m,\u001B[49m\u001B[43m \u001B[49m\u001B[43ms\u001B[49m\u001B[43m \u001B[49m\u001B[38;5;241;43m*\u001B[39;49m\u001B[43m \u001B[49m\u001B[38;5;241;43m.5\u001B[39;49m\u001B[43m)\u001B[49m\n\u001B[0;32m      7\u001B[0m drawlight()  \u001B[38;5;66;03m# 调用彩灯\u001B[39;00m\n\u001B[0;32m      8\u001B[0m right(\u001B[38;5;241m120\u001B[39m)\n",
      "Input \u001B[1;32mIn [23]\u001B[0m, in \u001B[0;36mtree\u001B[1;34m(d, s)\u001B[0m\n\u001B[0;32m      7\u001B[0m drawlight()  \u001B[38;5;66;03m# 调用彩灯\u001B[39;00m\n\u001B[0;32m      8\u001B[0m right(\u001B[38;5;241m120\u001B[39m)\n\u001B[1;32m----> 9\u001B[0m \u001B[43mtree\u001B[49m\u001B[43m(\u001B[49m\u001B[43md\u001B[49m\u001B[43m \u001B[49m\u001B[38;5;241;43m-\u001B[39;49m\u001B[43m \u001B[49m\u001B[38;5;241;43m3\u001B[39;49m\u001B[43m,\u001B[49m\u001B[43m \u001B[49m\u001B[43ms\u001B[49m\u001B[43m \u001B[49m\u001B[38;5;241;43m*\u001B[39;49m\u001B[43m \u001B[49m\u001B[38;5;241;43m.5\u001B[39;49m\u001B[43m)\u001B[49m\n\u001B[0;32m     10\u001B[0m right(\u001B[38;5;241m120\u001B[39m)\n\u001B[0;32m     11\u001B[0m backward(s)\n",
      "Input \u001B[1;32mIn [23]\u001B[0m, in \u001B[0;36mtree\u001B[1;34m(d, s)\u001B[0m\n\u001B[0;32m     10\u001B[0m right(\u001B[38;5;241m120\u001B[39m)\n\u001B[0;32m     11\u001B[0m backward(s)\n\u001B[1;32m---> 12\u001B[0m \u001B[43mbackward\u001B[49m\u001B[43m(\u001B[49m\u001B[43ms\u001B[49m\u001B[43m \u001B[49m\u001B[38;5;241;43m/\u001B[39;49m\u001B[43m \u001B[49m\u001B[38;5;241;43m2\u001B[39;49m\u001B[43m)\u001B[49m\n",
      "File \u001B[1;32m<string>:5\u001B[0m, in \u001B[0;36mbackward\u001B[1;34m(distance)\u001B[0m\n",
      "\u001B[1;31mTerminator\u001B[0m: "
     ]
    }
   ],
   "source": [
    "star()\n",
    "\n",
    "color(\"dark green\")  # 树枝颜色\n",
    "backward(n * 4.8)\n",
    "tree(15, n)\n",
    "\n",
    "gift()\n",
    "text()\n",
    "snow()\n",
    "text2()\n",
    "t.done()"
   ],
   "metadata": {
    "collapsed": false,
    "pycharm": {
     "name": "#%%\n"
    }
   }
  }
 ],
 "metadata": {
  "kernelspec": {
   "display_name": "Python 3",
   "language": "python",
   "name": "python3"
  },
  "language_info": {
   "codemirror_mode": {
    "name": "ipython",
    "version": 2
   },
   "file_extension": ".py",
   "mimetype": "text/x-python",
   "name": "python",
   "nbconvert_exporter": "python",
   "pygments_lexer": "ipython2",
   "version": "2.7.6"
  }
 },
 "nbformat": 4,
 "nbformat_minor": 0
}